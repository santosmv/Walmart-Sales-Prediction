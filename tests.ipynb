{
 "cells": [
  {
   "cell_type": "code",
   "execution_count": 1,
   "metadata": {},
   "outputs": [],
   "source": [
    "import pandas as pd\n",
    "import numpy as np"
   ]
  },
  {
   "cell_type": "code",
   "execution_count": 2,
   "metadata": {},
   "outputs": [],
   "source": [
    "data_path = 'data/walmart-sales-dataset-of-45stores.csv'\n",
    "data = pd.read_csv(data_path)"
   ]
  },
  {
   "cell_type": "code",
   "execution_count": 3,
   "metadata": {},
   "outputs": [
    {
     "data": {
      "text/plain": [
       "(6435, 8)"
      ]
     },
     "execution_count": 3,
     "metadata": {},
     "output_type": "execute_result"
    }
   ],
   "source": [
    "data.shape"
   ]
  },
  {
   "cell_type": "code",
   "execution_count": 6,
   "metadata": {},
   "outputs": [
    {
     "data": {
      "text/plain": [
       "Store           0\n",
       "Date            0\n",
       "Weekly_Sales    0\n",
       "Holiday_Flag    0\n",
       "Temperature     0\n",
       "Fuel_Price      0\n",
       "CPI             0\n",
       "Unemployment    0\n",
       "dtype: int64"
      ]
     },
     "execution_count": 6,
     "metadata": {},
     "output_type": "execute_result"
    }
   ],
   "source": [
    "data.isnull().sum()"
   ]
  },
  {
   "cell_type": "code",
   "execution_count": 11,
   "metadata": {},
   "outputs": [
    {
     "data": {
      "text/plain": [
       "0"
      ]
     },
     "execution_count": 11,
     "metadata": {},
     "output_type": "execute_result"
    }
   ],
   "source": [
    "data.isna().any().sum()"
   ]
  },
  {
   "cell_type": "code",
   "execution_count": 43,
   "metadata": {},
   "outputs": [
    {
     "data": {
      "text/html": [
       "<div>\n",
       "<style scoped>\n",
       "    .dataframe tbody tr th:only-of-type {\n",
       "        vertical-align: middle;\n",
       "    }\n",
       "\n",
       "    .dataframe tbody tr th {\n",
       "        vertical-align: top;\n",
       "    }\n",
       "\n",
       "    .dataframe thead th {\n",
       "        text-align: right;\n",
       "    }\n",
       "</style>\n",
       "<table border=\"1\" class=\"dataframe\">\n",
       "  <thead>\n",
       "    <tr style=\"text-align: right;\">\n",
       "      <th></th>\n",
       "      <th>year</th>\n",
       "      <th>week</th>\n",
       "      <th>day</th>\n",
       "    </tr>\n",
       "  </thead>\n",
       "  <tbody>\n",
       "    <tr>\n",
       "      <th>0</th>\n",
       "      <td>2010</td>\n",
       "      <td>5</td>\n",
       "      <td>5</td>\n",
       "    </tr>\n",
       "    <tr>\n",
       "      <th>1</th>\n",
       "      <td>2010</td>\n",
       "      <td>6</td>\n",
       "      <td>5</td>\n",
       "    </tr>\n",
       "    <tr>\n",
       "      <th>2</th>\n",
       "      <td>2010</td>\n",
       "      <td>7</td>\n",
       "      <td>5</td>\n",
       "    </tr>\n",
       "    <tr>\n",
       "      <th>3</th>\n",
       "      <td>2010</td>\n",
       "      <td>8</td>\n",
       "      <td>5</td>\n",
       "    </tr>\n",
       "    <tr>\n",
       "      <th>4</th>\n",
       "      <td>2010</td>\n",
       "      <td>9</td>\n",
       "      <td>5</td>\n",
       "    </tr>\n",
       "    <tr>\n",
       "      <th>...</th>\n",
       "      <td>...</td>\n",
       "      <td>...</td>\n",
       "      <td>...</td>\n",
       "    </tr>\n",
       "    <tr>\n",
       "      <th>138</th>\n",
       "      <td>2012</td>\n",
       "      <td>39</td>\n",
       "      <td>5</td>\n",
       "    </tr>\n",
       "    <tr>\n",
       "      <th>139</th>\n",
       "      <td>2012</td>\n",
       "      <td>40</td>\n",
       "      <td>5</td>\n",
       "    </tr>\n",
       "    <tr>\n",
       "      <th>140</th>\n",
       "      <td>2012</td>\n",
       "      <td>41</td>\n",
       "      <td>5</td>\n",
       "    </tr>\n",
       "    <tr>\n",
       "      <th>141</th>\n",
       "      <td>2012</td>\n",
       "      <td>42</td>\n",
       "      <td>5</td>\n",
       "    </tr>\n",
       "    <tr>\n",
       "      <th>142</th>\n",
       "      <td>2012</td>\n",
       "      <td>43</td>\n",
       "      <td>5</td>\n",
       "    </tr>\n",
       "  </tbody>\n",
       "</table>\n",
       "<p>143 rows × 3 columns</p>\n",
       "</div>"
      ],
      "text/plain": [
       "     year  week  day\n",
       "0    2010     5    5\n",
       "1    2010     6    5\n",
       "2    2010     7    5\n",
       "3    2010     8    5\n",
       "4    2010     9    5\n",
       "..    ...   ...  ...\n",
       "138  2012    39    5\n",
       "139  2012    40    5\n",
       "140  2012    41    5\n",
       "141  2012    42    5\n",
       "142  2012    43    5\n",
       "\n",
       "[143 rows x 3 columns]"
      ]
     },
     "execution_count": 43,
     "metadata": {},
     "output_type": "execute_result"
    }
   ],
   "source": [
    "features = ['Date','Holiday_Flag','Temperature','Fuel_Price','CPI','Unemployment']\n",
    "data.Date = pd.to_datetime(data.Date, format='%d-%m-%Y')\n",
    "\n",
    "# data['day_of_week'] = data.Date.dayofweek\n",
    "X = data.groupby('Store').get_group(1)[features]\n",
    "y = data.groupby('Store').get_group(1)['Weekly_Sales']\n",
    "\n",
    "X.Date.dt.month\n",
    "X.Date.dt.dayofyear\n",
    "X.Date.dt.isocalendar().week"
   ]
  },
  {
   "cell_type": "code",
   "execution_count": 44,
   "metadata": {},
   "outputs": [
    {
     "data": {
      "text/html": [
       "<div>\n",
       "<style scoped>\n",
       "    .dataframe tbody tr th:only-of-type {\n",
       "        vertical-align: middle;\n",
       "    }\n",
       "\n",
       "    .dataframe tbody tr th {\n",
       "        vertical-align: top;\n",
       "    }\n",
       "\n",
       "    .dataframe thead th {\n",
       "        text-align: right;\n",
       "    }\n",
       "</style>\n",
       "<table border=\"1\" class=\"dataframe\">\n",
       "  <thead>\n",
       "    <tr style=\"text-align: right;\">\n",
       "      <th></th>\n",
       "      <th>Store</th>\n",
       "      <th>Date</th>\n",
       "      <th>Weekly_Sales</th>\n",
       "      <th>Holiday_Flag</th>\n",
       "      <th>Temperature</th>\n",
       "      <th>Fuel_Price</th>\n",
       "      <th>CPI</th>\n",
       "      <th>Unemployment</th>\n",
       "    </tr>\n",
       "  </thead>\n",
       "  <tbody>\n",
       "    <tr>\n",
       "      <th>0</th>\n",
       "      <td>1</td>\n",
       "      <td>2010-02-05</td>\n",
       "      <td>1643690.90</td>\n",
       "      <td>0</td>\n",
       "      <td>42.31</td>\n",
       "      <td>2.572</td>\n",
       "      <td>211.096358</td>\n",
       "      <td>8.106</td>\n",
       "    </tr>\n",
       "    <tr>\n",
       "      <th>1</th>\n",
       "      <td>1</td>\n",
       "      <td>2010-02-12</td>\n",
       "      <td>1641957.44</td>\n",
       "      <td>1</td>\n",
       "      <td>38.51</td>\n",
       "      <td>2.548</td>\n",
       "      <td>211.242170</td>\n",
       "      <td>8.106</td>\n",
       "    </tr>\n",
       "    <tr>\n",
       "      <th>2</th>\n",
       "      <td>1</td>\n",
       "      <td>2010-02-19</td>\n",
       "      <td>1611968.17</td>\n",
       "      <td>0</td>\n",
       "      <td>39.93</td>\n",
       "      <td>2.514</td>\n",
       "      <td>211.289143</td>\n",
       "      <td>8.106</td>\n",
       "    </tr>\n",
       "    <tr>\n",
       "      <th>3</th>\n",
       "      <td>1</td>\n",
       "      <td>2010-02-26</td>\n",
       "      <td>1409727.59</td>\n",
       "      <td>0</td>\n",
       "      <td>46.63</td>\n",
       "      <td>2.561</td>\n",
       "      <td>211.319643</td>\n",
       "      <td>8.106</td>\n",
       "    </tr>\n",
       "    <tr>\n",
       "      <th>4</th>\n",
       "      <td>1</td>\n",
       "      <td>2010-03-05</td>\n",
       "      <td>1554806.68</td>\n",
       "      <td>0</td>\n",
       "      <td>46.50</td>\n",
       "      <td>2.625</td>\n",
       "      <td>211.350143</td>\n",
       "      <td>8.106</td>\n",
       "    </tr>\n",
       "    <tr>\n",
       "      <th>...</th>\n",
       "      <td>...</td>\n",
       "      <td>...</td>\n",
       "      <td>...</td>\n",
       "      <td>...</td>\n",
       "      <td>...</td>\n",
       "      <td>...</td>\n",
       "      <td>...</td>\n",
       "      <td>...</td>\n",
       "    </tr>\n",
       "    <tr>\n",
       "      <th>6430</th>\n",
       "      <td>45</td>\n",
       "      <td>2012-09-28</td>\n",
       "      <td>713173.95</td>\n",
       "      <td>0</td>\n",
       "      <td>64.88</td>\n",
       "      <td>3.997</td>\n",
       "      <td>192.013558</td>\n",
       "      <td>8.684</td>\n",
       "    </tr>\n",
       "    <tr>\n",
       "      <th>6431</th>\n",
       "      <td>45</td>\n",
       "      <td>2012-10-05</td>\n",
       "      <td>733455.07</td>\n",
       "      <td>0</td>\n",
       "      <td>64.89</td>\n",
       "      <td>3.985</td>\n",
       "      <td>192.170412</td>\n",
       "      <td>8.667</td>\n",
       "    </tr>\n",
       "    <tr>\n",
       "      <th>6432</th>\n",
       "      <td>45</td>\n",
       "      <td>2012-10-12</td>\n",
       "      <td>734464.36</td>\n",
       "      <td>0</td>\n",
       "      <td>54.47</td>\n",
       "      <td>4.000</td>\n",
       "      <td>192.327265</td>\n",
       "      <td>8.667</td>\n",
       "    </tr>\n",
       "    <tr>\n",
       "      <th>6433</th>\n",
       "      <td>45</td>\n",
       "      <td>2012-10-19</td>\n",
       "      <td>718125.53</td>\n",
       "      <td>0</td>\n",
       "      <td>56.47</td>\n",
       "      <td>3.969</td>\n",
       "      <td>192.330854</td>\n",
       "      <td>8.667</td>\n",
       "    </tr>\n",
       "    <tr>\n",
       "      <th>6434</th>\n",
       "      <td>45</td>\n",
       "      <td>2012-10-26</td>\n",
       "      <td>760281.43</td>\n",
       "      <td>0</td>\n",
       "      <td>58.85</td>\n",
       "      <td>3.882</td>\n",
       "      <td>192.308899</td>\n",
       "      <td>8.667</td>\n",
       "    </tr>\n",
       "  </tbody>\n",
       "</table>\n",
       "<p>6435 rows × 8 columns</p>\n",
       "</div>"
      ],
      "text/plain": [
       "      Store       Date  Weekly_Sales  Holiday_Flag  Temperature  Fuel_Price  \\\n",
       "0         1 2010-02-05    1643690.90             0        42.31       2.572   \n",
       "1         1 2010-02-12    1641957.44             1        38.51       2.548   \n",
       "2         1 2010-02-19    1611968.17             0        39.93       2.514   \n",
       "3         1 2010-02-26    1409727.59             0        46.63       2.561   \n",
       "4         1 2010-03-05    1554806.68             0        46.50       2.625   \n",
       "...     ...        ...           ...           ...          ...         ...   \n",
       "6430     45 2012-09-28     713173.95             0        64.88       3.997   \n",
       "6431     45 2012-10-05     733455.07             0        64.89       3.985   \n",
       "6432     45 2012-10-12     734464.36             0        54.47       4.000   \n",
       "6433     45 2012-10-19     718125.53             0        56.47       3.969   \n",
       "6434     45 2012-10-26     760281.43             0        58.85       3.882   \n",
       "\n",
       "             CPI  Unemployment  \n",
       "0     211.096358         8.106  \n",
       "1     211.242170         8.106  \n",
       "2     211.289143         8.106  \n",
       "3     211.319643         8.106  \n",
       "4     211.350143         8.106  \n",
       "...          ...           ...  \n",
       "6430  192.013558         8.684  \n",
       "6431  192.170412         8.667  \n",
       "6432  192.327265         8.667  \n",
       "6433  192.330854         8.667  \n",
       "6434  192.308899         8.667  \n",
       "\n",
       "[6435 rows x 8 columns]"
      ]
     },
     "execution_count": 44,
     "metadata": {},
     "output_type": "execute_result"
    }
   ],
   "source": [
    "data"
   ]
  },
  {
   "cell_type": "code",
   "execution_count": 64,
   "metadata": {},
   "outputs": [
    {
     "data": {
      "text/plain": [
       "0       2010-02-05\n",
       "1       2010-02-12\n",
       "2       2010-02-19\n",
       "3       2010-02-26\n",
       "4       2010-03-05\n",
       "           ...    \n",
       "6430    2012-09-28\n",
       "6431    2012-10-05\n",
       "6432    2012-10-12\n",
       "6433    2012-10-19\n",
       "6434    2012-10-26\n",
       "Name: Date, Length: 6435, dtype: object"
      ]
     },
     "execution_count": 64,
     "metadata": {},
     "output_type": "execute_result"
    }
   ],
   "source": [
    "data.Date.dt.date"
   ]
  },
  {
   "cell_type": "code",
   "execution_count": 45,
   "metadata": {},
   "outputs": [
    {
     "data": {
      "text/html": [
       "<div>\n",
       "<style scoped>\n",
       "    .dataframe tbody tr th:only-of-type {\n",
       "        vertical-align: middle;\n",
       "    }\n",
       "\n",
       "    .dataframe tbody tr th {\n",
       "        vertical-align: top;\n",
       "    }\n",
       "\n",
       "    .dataframe thead th {\n",
       "        text-align: right;\n",
       "    }\n",
       "</style>\n",
       "<table border=\"1\" class=\"dataframe\">\n",
       "  <thead>\n",
       "    <tr style=\"text-align: right;\">\n",
       "      <th></th>\n",
       "      <th>Date</th>\n",
       "      <th>Holiday_Flag</th>\n",
       "      <th>Temperature</th>\n",
       "      <th>Fuel_Price</th>\n",
       "      <th>CPI</th>\n",
       "      <th>Unemployment</th>\n",
       "    </tr>\n",
       "  </thead>\n",
       "  <tbody>\n",
       "    <tr>\n",
       "      <th>0</th>\n",
       "      <td>2010-02-05</td>\n",
       "      <td>0</td>\n",
       "      <td>42.31</td>\n",
       "      <td>2.572</td>\n",
       "      <td>211.096358</td>\n",
       "      <td>8.106</td>\n",
       "    </tr>\n",
       "    <tr>\n",
       "      <th>1</th>\n",
       "      <td>2010-02-12</td>\n",
       "      <td>1</td>\n",
       "      <td>38.51</td>\n",
       "      <td>2.548</td>\n",
       "      <td>211.242170</td>\n",
       "      <td>8.106</td>\n",
       "    </tr>\n",
       "    <tr>\n",
       "      <th>2</th>\n",
       "      <td>2010-02-19</td>\n",
       "      <td>0</td>\n",
       "      <td>39.93</td>\n",
       "      <td>2.514</td>\n",
       "      <td>211.289143</td>\n",
       "      <td>8.106</td>\n",
       "    </tr>\n",
       "    <tr>\n",
       "      <th>3</th>\n",
       "      <td>2010-02-26</td>\n",
       "      <td>0</td>\n",
       "      <td>46.63</td>\n",
       "      <td>2.561</td>\n",
       "      <td>211.319643</td>\n",
       "      <td>8.106</td>\n",
       "    </tr>\n",
       "    <tr>\n",
       "      <th>4</th>\n",
       "      <td>2010-03-05</td>\n",
       "      <td>0</td>\n",
       "      <td>46.50</td>\n",
       "      <td>2.625</td>\n",
       "      <td>211.350143</td>\n",
       "      <td>8.106</td>\n",
       "    </tr>\n",
       "    <tr>\n",
       "      <th>...</th>\n",
       "      <td>...</td>\n",
       "      <td>...</td>\n",
       "      <td>...</td>\n",
       "      <td>...</td>\n",
       "      <td>...</td>\n",
       "      <td>...</td>\n",
       "    </tr>\n",
       "    <tr>\n",
       "      <th>138</th>\n",
       "      <td>2012-09-28</td>\n",
       "      <td>0</td>\n",
       "      <td>76.08</td>\n",
       "      <td>3.666</td>\n",
       "      <td>222.981658</td>\n",
       "      <td>6.908</td>\n",
       "    </tr>\n",
       "    <tr>\n",
       "      <th>139</th>\n",
       "      <td>2012-10-05</td>\n",
       "      <td>0</td>\n",
       "      <td>68.55</td>\n",
       "      <td>3.617</td>\n",
       "      <td>223.181477</td>\n",
       "      <td>6.573</td>\n",
       "    </tr>\n",
       "    <tr>\n",
       "      <th>140</th>\n",
       "      <td>2012-10-12</td>\n",
       "      <td>0</td>\n",
       "      <td>62.99</td>\n",
       "      <td>3.601</td>\n",
       "      <td>223.381296</td>\n",
       "      <td>6.573</td>\n",
       "    </tr>\n",
       "    <tr>\n",
       "      <th>141</th>\n",
       "      <td>2012-10-19</td>\n",
       "      <td>0</td>\n",
       "      <td>67.97</td>\n",
       "      <td>3.594</td>\n",
       "      <td>223.425723</td>\n",
       "      <td>6.573</td>\n",
       "    </tr>\n",
       "    <tr>\n",
       "      <th>142</th>\n",
       "      <td>2012-10-26</td>\n",
       "      <td>0</td>\n",
       "      <td>69.16</td>\n",
       "      <td>3.506</td>\n",
       "      <td>223.444251</td>\n",
       "      <td>6.573</td>\n",
       "    </tr>\n",
       "  </tbody>\n",
       "</table>\n",
       "<p>143 rows × 6 columns</p>\n",
       "</div>"
      ],
      "text/plain": [
       "          Date  Holiday_Flag  Temperature  Fuel_Price         CPI  \\\n",
       "0   2010-02-05             0        42.31       2.572  211.096358   \n",
       "1   2010-02-12             1        38.51       2.548  211.242170   \n",
       "2   2010-02-19             0        39.93       2.514  211.289143   \n",
       "3   2010-02-26             0        46.63       2.561  211.319643   \n",
       "4   2010-03-05             0        46.50       2.625  211.350143   \n",
       "..         ...           ...          ...         ...         ...   \n",
       "138 2012-09-28             0        76.08       3.666  222.981658   \n",
       "139 2012-10-05             0        68.55       3.617  223.181477   \n",
       "140 2012-10-12             0        62.99       3.601  223.381296   \n",
       "141 2012-10-19             0        67.97       3.594  223.425723   \n",
       "142 2012-10-26             0        69.16       3.506  223.444251   \n",
       "\n",
       "     Unemployment  \n",
       "0           8.106  \n",
       "1           8.106  \n",
       "2           8.106  \n",
       "3           8.106  \n",
       "4           8.106  \n",
       "..            ...  \n",
       "138         6.908  \n",
       "139         6.573  \n",
       "140         6.573  \n",
       "141         6.573  \n",
       "142         6.573  \n",
       "\n",
       "[143 rows x 6 columns]"
      ]
     },
     "execution_count": 45,
     "metadata": {},
     "output_type": "execute_result"
    }
   ],
   "source": [
    "X"
   ]
  },
  {
   "cell_type": "code",
   "execution_count": 50,
   "metadata": {},
   "outputs": [],
   "source": [
    "from sklearn.model_selection import TimeSeriesSplit\n",
    "\n",
    "tss = TimeSeriesSplit(n_splits=2)\n",
    "X,y = X.to_numpy(), y.to_numpy()\n",
    "\n",
    "for i, (train_index, test_index) in enumerate(tss.split(X)):\n",
    "    X_train, X_test, y_train, y_test = X[train_index], X[test_index], y[train_index], y[test_index]"
   ]
  },
  {
   "cell_type": "code",
   "execution_count": 66,
   "metadata": {},
   "outputs": [
    {
     "data": {
      "text/plain": [
       "[<matplotlib.lines.Line2D at 0x7f1af3847730>]"
      ]
     },
     "execution_count": 66,
     "metadata": {},
     "output_type": "execute_result"
    },
    {
     "data": {
      "image/png": "[encoded data removed]",
      "text/plain": [
       "<Figure size 640x480 with 1 Axes>"
      ]
     },
     "metadata": {},
     "output_type": "display_data"
    }
   ],
   "source": [
    "import matplotlib.pyplot as plt\n",
    "import numpy as np\n",
    "\n",
    "plt.plot(y)\n",
    "plt.plot(np.arange(0,len(y_train)), y_train, 'k')\n",
    "plt.plot(np.arange(len(y_train),len(y_train)+len(y_test)), y_test, 'r')"
   ]
  },
  {
   "cell_type": "code",
   "execution_count": 35,
   "metadata": {},
   "outputs": [
    {
     "name": "stdout",
     "output_type": "stream",
     "text": [
      "['RandomForestRegressor', 'n_estimators=10000)']\n"
     ]
    }
   ],
   "source": [
    "np.random.uniform(1, 2000, 10)\n",
    "from sklearn.ensemble import RandomForestRegressor\n",
    "import xgboost as xgb\n",
    "\n",
    "m = RandomForestRegressor(n_estimators=10000)\n",
    "n = xgb.XGBRegressor()\n",
    "print(str(m).split('('))"
   ]
  },
  {
   "cell_type": "code",
   "execution_count": 28,
   "metadata": {},
   "outputs": [],
   "source": [
    "if str(m).split == 'RandomForestRegressor()': print('aaa')"
   ]
  },
  {
   "cell_type": "code",
   "execution_count": 36,
   "metadata": {},
   "outputs": [
    {
     "data": {
      "text/plain": [
       "'XGBRegressor'"
      ]
     },
     "execution_count": 36,
     "metadata": {},
     "output_type": "execute_result"
    }
   ],
   "source": [
    "type(n).__name__"
   ]
  },
  {
   "cell_type": "code",
   "execution_count": null,
   "metadata": {},
   "outputs": [],
   "source": [
    "from sqlalchemy import insert, create_engine, select, Column, String, Integer, Table, MetaData\n",
    "\n",
    "engine = create_engine(\"sqlite+pysqlite:///table.db\")\n",
    "conn = engine.connect()\n",
    "\n",
    "metadata = MetaData()\n",
    "\n",
    "table = Table('test', metadata,\n",
    "              Column('id', Integer, primary_key=True),\n",
    "              Column('name', String),\n",
    "              Column('age', Integer)\n",
    "              )\n",
    "\n",
    "metadata.create_all(engine)"
   ]
  },
  {
   "cell_type": "code",
   "execution_count": 2,
   "metadata": {},
   "outputs": [
    {
     "name": "stdout",
     "output_type": "stream",
     "text": [
      "Predictors\n",
      "Column: id\n",
      "Column: name\n",
      "Column: mape\n",
      "Column: refit_time_\n",
      "Column: n_features_in_\n",
      "Column: n_estimators\n",
      "Column: max_depth\n",
      "Column: min_samples_split\n",
      "Column: min_samples_leaf\n",
      "Column: max_features\n",
      "Column: bootstrap\n",
      "Column: eta\n",
      "Column: gamma\n",
      "Column: subsample\n",
      "Column: lambda\n",
      "Column: tree_method\n"
     ]
    }
   ],
   "source": [
    "from sqlalchemy import insert, create_engine, inspect\n",
    "\n",
    "engine = create_engine(\"sqlite+pysqlite:///database.db\")\n",
    "inspector = inspect(engine)\n",
    "\n",
    "inspector.get_table_names()\n",
    "for table_name in inspector.get_table_names():\n",
    "   print(table_name)\n",
    "   for column in inspector.get_columns(table_name):\n",
    "       print(\"Column: %s\" % column['name'])"
   ]
  },
  {
   "cell_type": "code",
   "execution_count": null,
   "metadata": {},
   "outputs": [],
   "source": [
    "# conn.execute('INSERT INTO ola VALUES (?,?,?)',[(1,'MARCUS',33)])\n",
    "conn = engine.connect()\n",
    "meta = MetaData()\n",
    "\n",
    "table = Table('ola', meta, autoload_with=engine)"
   ]
  },
  {
   "cell_type": "code",
   "execution_count": 64,
   "metadata": {},
   "outputs": [
    {
     "name": "stdout",
     "output_type": "stream",
     "text": [
      "INSERT INTO ola (id, name, age) VALUES (:id, :name, :age)\n"
     ]
    },
    {
     "data": {
      "text/plain": [
       "{'id': 2, 'name': 'marcos', 'age': 34}"
      ]
     },
     "execution_count": 64,
     "metadata": {},
     "output_type": "execute_result"
    }
   ],
   "source": [
    "query = insert(table).values(id=2, name='marcos', age=34)\n",
    "print(query)\n",
    "query.compile().params"
   ]
  },
  {
   "cell_type": "code",
   "execution_count": 65,
   "metadata": {},
   "outputs": [
    {
     "name": "stdout",
     "output_type": "stream",
     "text": [
      "2024-03-05 11:13:15,642 INFO sqlalchemy.engine.Engine INSERT INTO ola (id, name, age) VALUES (?, ?, ?)\n",
      "2024-03-05 11:13:15,643 INFO sqlalchemy.engine.Engine [cached since 222.3s ago] (2, 'marcos', 34)\n"
     ]
    },
    {
     "data": {
      "text/plain": [
       "<sqlalchemy.engine.cursor.CursorResult at 0x7f0be3944e80>"
      ]
     },
     "execution_count": 65,
     "metadata": {},
     "output_type": "execute_result"
    }
   ],
   "source": [
    "conn.execute(query)"
   ]
  },
  {
   "cell_type": "code",
   "execution_count": 66,
   "metadata": {},
   "outputs": [
    {
     "name": "stdout",
     "output_type": "stream",
     "text": [
      "2024-03-05 11:13:15,660 INFO sqlalchemy.engine.Engine COMMIT\n"
     ]
    }
   ],
   "source": [
    "conn.commit()"
   ]
  },
  {
   "cell_type": "code",
   "execution_count": 67,
   "metadata": {},
   "outputs": [],
   "source": [
    "s = table.select()"
   ]
  },
  {
   "cell_type": "code",
   "execution_count": 68,
   "metadata": {},
   "outputs": [
    {
     "name": "stdout",
     "output_type": "stream",
     "text": [
      "SELECT ola.id, ola.name, ola.age \n",
      "FROM ola\n"
     ]
    }
   ],
   "source": [
    "print(s)"
   ]
  },
  {
   "cell_type": "code",
   "execution_count": 69,
   "metadata": {},
   "outputs": [
    {
     "name": "stdout",
     "output_type": "stream",
     "text": [
      "2024-03-05 11:13:15,723 INFO sqlalchemy.engine.Engine BEGIN (implicit)\n",
      "2024-03-05 11:13:15,729 INFO sqlalchemy.engine.Engine SELECT ola.id, ola.name, ola.age \n",
      "FROM ola\n",
      "2024-03-05 11:13:15,731 INFO sqlalchemy.engine.Engine [cached since 205.5s ago] ()\n"
     ]
    }
   ],
   "source": [
    "result = conn.execute(s)"
   ]
  },
  {
   "cell_type": "code",
   "execution_count": 70,
   "metadata": {},
   "outputs": [],
   "source": [
    "row = result.fetchone()"
   ]
  },
  {
   "cell_type": "code",
   "execution_count": 71,
   "metadata": {},
   "outputs": [
    {
     "name": "stdout",
     "output_type": "stream",
     "text": [
      "(1, 'MMs', 33)\n"
     ]
    }
   ],
   "source": [
    "print(row)"
   ]
  },
  {
   "cell_type": "code",
   "execution_count": 99,
   "metadata": {},
   "outputs": [
    {
     "name": "stdout",
     "output_type": "stream",
     "text": [
      "2024-03-05 11:17:14,316 INFO sqlalchemy.engine.Engine INSERT INTO ola (id, name, age) VALUES (?, ?, ?)\n",
      "2024-03-05 11:17:14,318 INFO sqlalchemy.engine.Engine [cached since 461s ago] (574, 'marcos', 34)\n",
      "2024-03-05 11:17:14,319 INFO sqlalchemy.engine.Engine COMMIT\n",
      "2024-03-05 11:17:14,327 INFO sqlalchemy.engine.Engine BEGIN (implicit)\n",
      "2024-03-05 11:17:14,329 INFO sqlalchemy.engine.Engine SELECT ola.id, ola.name, ola.age \n",
      "FROM ola\n",
      "2024-03-05 11:17:14,330 INFO sqlalchemy.engine.Engine [cached since 444.1s ago] ()\n",
      "[(1, 'MMs', 33), (2, 'marcos', 34), (37, 'marcos', 34), (85, 'marcos', 34), (93, 'marcos', 34), (102, 'marcos', 34), (150, 'marcos', 34), (159, 'marcos', 34), (191, 'marcos', 34), (227, 'marcos', 34), (235, 'marcos', 34), (297, 'marcos', 34), (329, 'marcos', 34), (374, 'marcos', 34), (437, 'marcos', 34), (468, 'marcos', 34), (498, 'marcos', 34), (574, 'marcos', 34), (620, 'marcos', 34), (656, 'marcos', 34), (734, 'marcos', 34), (825, 'marcos', 34), (919, 'marcos', 34), (923, 'marcos', 34), (938, 'marcos', 34)]\n"
     ]
    }
   ],
   "source": [
    "import numpy as np\n",
    "\n",
    "query = insert(table).values(id=np.random.randint(3,1000), name='marcos', age=34)\n",
    "conn.execute(query)\n",
    "conn.commit()\n",
    "\n",
    "s = table.select()\n",
    "result = conn.execute(s)\n",
    "rows = result.fetchall()\n",
    "print(rows)"
   ]
  },
  {
   "cell_type": "code",
   "execution_count": 100,
   "metadata": {},
   "outputs": [
    {
     "name": "stdout",
     "output_type": "stream",
     "text": [
      "(1, 'MMs', 33)\n",
      "(2, 'marcos', 34)\n",
      "(37, 'marcos', 34)\n",
      "(85, 'marcos', 34)\n",
      "(93, 'marcos', 34)\n",
      "(102, 'marcos', 34)\n",
      "(150, 'marcos', 34)\n",
      "(159, 'marcos', 34)\n",
      "(191, 'marcos', 34)\n",
      "(227, 'marcos', 34)\n",
      "(235, 'marcos', 34)\n",
      "(297, 'marcos', 34)\n",
      "(329, 'marcos', 34)\n",
      "(374, 'marcos', 34)\n",
      "(437, 'marcos', 34)\n",
      "(468, 'marcos', 34)\n",
      "(498, 'marcos', 34)\n",
      "(574, 'marcos', 34)\n",
      "(620, 'marcos', 34)\n",
      "(656, 'marcos', 34)\n",
      "(734, 'marcos', 34)\n",
      "(825, 'marcos', 34)\n",
      "(919, 'marcos', 34)\n",
      "(923, 'marcos', 34)\n",
      "(938, 'marcos', 34)\n"
     ]
    }
   ],
   "source": [
    "for row in rows:\n",
    "    print(row)"
   ]
  },
  {
   "cell_type": "code",
   "execution_count": null,
   "metadata": {},
   "outputs": [],
   "source": [
    "from sqlalchemy import insert, create_engine, select, Table, MetaData\n",
    "\n",
    "engine = create_engine(\"sqlite+pysqlite:///database.db\")\n",
    "conn = engine.connect()\n",
    "meta = MetaData()\n",
    "table = Table('X_data', meta, autoload_with=engine)\n",
    "\n",
    "# i = table.insert().values([{'id':4,'1':45,'2':2}])\n",
    "# conn.execute(i)\n",
    "# conn.commit()\n",
    "\n",
    "s = table.select().with_only_columns(table.c.id)\n",
    "result = conn.execute(s)\n",
    "rows = result.fetchall()\n",
    "print(rows[-1][0])\n",
    "conn.close()"
   ]
  },
  {
   "cell_type": "code",
   "execution_count": 7,
   "metadata": {},
   "outputs": [
    {
     "data": {
      "text/plain": [
       "{'test': 1, 'name': 'Maria', 'id': 45, 'age': 2}"
      ]
     },
     "execution_count": 7,
     "metadata": {},
     "output_type": "execute_result"
    }
   ],
   "source": [
    "d1 = {'name':'Maria','id':45,'age':2}\n",
    "d2 = {'test':1}\n",
    "d2.update(d1)\n",
    "d2"
   ]
  },
  {
   "cell_type": "code",
   "execution_count": 8,
   "metadata": {},
   "outputs": [
    {
     "name": "stdout",
     "output_type": "stream",
     "text": [
      "[(1, 1, 'Random_Forest', 0.06415107124364083, 0.4528512954711914, 3, 3, 500, 10, 3, 3, '1', True, None, None, None, None, None), (2, 1, 'XGBoost', 0.06970581164653279, 0.06615662574768066, 3, 3, None, 20, None, None, None, None, 0.3, 0.0, 0.5, 0.5, 'auto'), (3, 1, 'Random_Forest', 0.0642324241244365, 0.023940324783325195, 3, 3, 40, 10, 4, 1, '1', False, None, None, None, None, None), (4, 1, 'XGBoost', 0.07500434517225608, 0.0453643798828125, 3, 3, None, 7, None, None, None, None, 0.5, 0.2, 0.5, 2.0, 'hist'), (5, 1, 'Random_Forest', 0.07009752292940585, 0.0034313201904296875, 3, 3, 5, 20, 3, 3, '1', False, None, None, None, None, None), (6, 1, 'XGBoost', 0.08417374608400657, 0.060755014419555664, 3, 3, None, 20, None, None, None, None, 0.9, 0.0, 0.5, 1.0, 'hist'), (7, 1, 'Random_Forest', 0.06462981597449192, 0.00401616096496582, 3, 3, 5, 20, 4, 3, 'log2', False, None, None, None, None, None), (8, 1, 'XGBoost', 0.07419764396109865, 0.1223444938659668, 3, 3, None, 50, None, None, None, None, 0.1, 1.0, 1.0, 2.0, 'exact'), (9, 1, 'Random_Forest', 0.07173621162934431, 0.0344390869140625, 3, 3, 40, 100, 4, 1, '1', True, None, None, None, None, None), (10, 1, 'XGBoost', 0.07288324339983225, 0.030887603759765625, 3, 3, None, 20, None, None, None, None, 0.9, 0.0, 1.0, 0.5, 'auto'), (11, 1, 'Random_Forest', 0.0648310082271481, 0.08663129806518555, 3, 3, 100, 5, 2, 2, '1', True, None, None, None, None, None), (12, 1, 'XGBoost', 0.07601615379857603, 0.020763397216796875, 3, 3, None, 3, None, None, None, None, 0.3, 1.0, 1.0, 1.0, 'hist'), (13, 1, 'Random_Forest', 0.063708254317568, 0.4912302494049072, 3, 3, 500, 10, 2, 2, '1', True, None, None, None, None, None), (14, 1, 'XGBoost', 0.07572862956322678, 0.05855417251586914, 3, 3, None, 8, None, None, None, None, 0.5, 0.2, 1.0, 1.0, 'exact')]\n",
      "dict_keys(['Predictors'])\n"
     ]
    }
   ],
   "source": [
    "from sqlalchemy import create_engine, MetaData, Table\n",
    "\n",
    "engine = create_engine(\"sqlite+pysqlite:///database.db\")\n",
    "conn = engine.connect()\n",
    "meta = MetaData()\n",
    "table = Table('Predictors', meta, autoload_with=engine)\n",
    "\n",
    "s = table.select()\n",
    "result = conn.execute(s)\n",
    "rows = result.fetchall()\n",
    "print(rows)\n",
    "\n",
    "print(meta.tables.keys())\n",
    "conn.close()"
   ]
  },
  {
   "cell_type": "code",
   "execution_count": 23,
   "metadata": {},
   "outputs": [
    {
     "name": "stdout",
     "output_type": "stream",
     "text": [
      "dict_keys(['Predictors', 'X_data', 'settings_data', 'target_prediction'])\n"
     ]
    }
   ],
   "source": [
    "from sqlalchemy import create_engine, MetaData\n",
    "\n",
    "engine = create_engine(\"sqlite+pysqlite:///database.db\")\n",
    "meta = MetaData()\n",
    "meta.reflect(bind=engine)\n",
    "print(meta.tables.keys())"
   ]
  },
  {
   "cell_type": "code",
   "execution_count": 21,
   "metadata": {},
   "outputs": [
    {
     "data": {
      "text/plain": [
       "['Predictors', 'X_data', 'settings_data', 'target_prediction']"
      ]
     },
     "execution_count": 21,
     "metadata": {},
     "output_type": "execute_result"
    }
   ],
   "source": [
    "from sqlalchemy import create_engine, MetaData, inspect\n",
    "\n",
    "engine = create_engine(\"sqlite+pysqlite:///database.db\")\n",
    "\n",
    "# Create an Inspector object\n",
    "inspector = inspect(engine)\n",
    "\n",
    "# Get the schema names\n",
    "inspector.get_table_names()"
   ]
  },
  {
   "cell_type": "code",
   "execution_count": 20,
   "metadata": {},
   "outputs": [
    {
     "data": {
      "text/plain": [
       "['id', 'target_id', 'X_id', 'date_time', 'store', 'test_fraction', 'n_splits']"
      ]
     },
     "execution_count": 20,
     "metadata": {},
     "output_type": "execute_result"
    }
   ],
   "source": [
    "from sqlalchemy import create_engine, MetaData\n",
    "\n",
    "engine = create_engine(\"sqlite+pysqlite:///database.db\")\n",
    "meta = MetaData()\n",
    "meta.reflect(bind=engine)\n",
    "\n",
    "meta.tables['settings_data'].columns.keys()"
   ]
  },
  {
   "cell_type": "code",
   "execution_count": 30,
   "metadata": {},
   "outputs": [
    {
     "name": "stdout",
     "output_type": "stream",
     "text": [
      "[]\n"
     ]
    }
   ],
   "source": [
    "from sqlalchemy import create_engine, MetaData, Table\n",
    "\n",
    "engine = create_engine(\"sqlite+pysqlite:///database.db\")\n",
    "conn = engine.connect()\n",
    "meta = MetaData()\n",
    "table = Table('X_data', meta, autoload_with=engine)\n",
    "\n",
    "s = table.select().where(table.c.id)\n",
    "result = conn.execute(s)\n",
    "rows = result.fetchall()\n",
    "\n",
    "print(rows)\n",
    "\n",
    "conn.close()"
   ]
  },
  {
   "cell_type": "code",
   "execution_count": 27,
   "metadata": {},
   "outputs": [
    {
     "name": "stdout",
     "output_type": "stream",
     "text": [
      "[(4, 45.0), (4, 45.0), (4, 45.0)]\n"
     ]
    }
   ],
   "source": [
    "from sqlalchemy import insert, create_engine, select, Table, MetaData\n",
    "\n",
    "engine = create_engine(\"sqlite+pysqlite:///database.db\")\n",
    "conn = engine.connect()\n",
    "meta = MetaData()\n",
    "table = Table('X_data', meta, autoload_with=engine)\n",
    "\n",
    "s = table.select().where((table.c.id == 4) & (table.c['1'] == 45)).with_only_columns(table.c.id, table.c['1'])\n",
    "result = conn.execute(s)\n",
    "rows = result.fetchall()\n",
    "print(rows)\n",
    "conn.close()"
   ]
  },
  {
   "cell_type": "code",
   "execution_count": 29,
   "metadata": {},
   "outputs": [
    {
     "name": "stdout",
     "output_type": "stream",
     "text": [
      "Executing another_function...\n",
      "This will be executed.\n",
      "Execution continues after my_function.\n"
     ]
    }
   ],
   "source": [
    "class MyClass:\n",
    "    def my_function(self):\n",
    "        print(\"This will be executed.\")\n",
    "        return  # Immediately exits the function, skipping the rest of the code\n",
    "        print(\"This will also be executed.\")\n",
    "\n",
    "    def another_function(self):\n",
    "        print(\"Executing another_function...\")\n",
    "        self.my_function()\n",
    "        print(\"Execution continues after my_function.\")\n",
    "\n",
    "# Creating an instance of MyClass\n",
    "obj = MyClass()\n",
    "\n",
    "# Calling another_function\n",
    "obj.another_function()"
   ]
  },
  {
   "cell_type": "code",
   "execution_count": 40,
   "metadata": {},
   "outputs": [
    {
     "name": "stdout",
     "output_type": "stream",
     "text": [
      "[(datetime.datetime(2024, 3, 6, 19, 56, 9, 217643),), (datetime.datetime(2024, 3, 6, 19, 56, 12, 289815),)]\n"
     ]
    }
   ],
   "source": [
    "from sqlalchemy import insert, create_engine, select, Table, MetaData, DateTime\n",
    "import datetime\n",
    "from sqlalchemy import insert, create_engine, select, Column, String, Integer, Table, MetaData\n",
    "\n",
    "engine = create_engine(\"sqlite+pysqlite:///table.db\")\n",
    "conn = engine.connect()\n",
    "\n",
    "metadata = MetaData()\n",
    "\n",
    "table = Table('date', metadata,\n",
    "              Column('date', DateTime)\n",
    "             )\n",
    "\n",
    "metadata.create_all(engine)\n",
    "\n",
    "date_time = datetime.datetime.now()\n",
    "\n",
    "conn = engine.connect()\n",
    "meta = MetaData()\n",
    "table = Table('date', meta, autoload_with=engine)\n",
    "\n",
    "i = table.insert().values([{'date':date_time}])\n",
    "conn.execute(i)\n",
    "conn.commit()\n",
    "\n",
    "s = table.select()\n",
    "result = conn.execute(s)\n",
    "rows = result.fetchall()\n",
    "print(rows)\n",
    "conn.close()"
   ]
  },
  {
   "cell_type": "code",
   "execution_count": 6,
   "metadata": {},
   "outputs": [
    {
     "name": "stdout",
     "output_type": "stream",
     "text": [
      "[(datetime.datetime(2024, 3, 6, 19, 56, 9, 217643),), (datetime.datetime(2024, 3, 6, 19, 56, 12, 289815),)]\n"
     ]
    },
    {
     "data": {
      "text/plain": [
       "Timestamp('2024-03-06 19:56:12.289815')"
      ]
     },
     "execution_count": 6,
     "metadata": {},
     "output_type": "execute_result"
    }
   ],
   "source": [
    "from sqlalchemy import create_engine, Table, MetaData\n",
    "import pandas as pd\n",
    "\n",
    "engine = create_engine(\"sqlite+pysqlite:///table.db\")\n",
    "conn = engine.connect()\n",
    "\n",
    "meta = MetaData()\n",
    "table = Table('date', meta, autoload_with=engine)\n",
    "\n",
    "s = table.select()\n",
    "result = conn.execute(s)\n",
    "rows = result.fetchall()\n",
    "print(rows)\n",
    "conn.close()\n",
    "\n",
    "pd.to_datetime(rows[-1][0])"
   ]
  },
  {
   "cell_type": "code",
   "execution_count": 2,
   "metadata": {},
   "outputs": [
    {
     "data": {
      "text/plain": [
       "1"
      ]
     },
     "execution_count": 2,
     "metadata": {},
     "output_type": "execute_result"
    }
   ],
   "source": [
    "from sqlalchemy import create_engine, Table, MetaData, text\n",
    "import pandas as pd\n",
    "\n",
    "engine = create_engine(\"sqlite+pysqlite:///data/database.db\")\n",
    "\n",
    "query = text(\"SELECT id FROM settings_data\")\n",
    "conn = engine.connect()\n",
    "\n",
    "id = conn.execute(query).fetchall()[0][0]\n",
    "\n",
    "id\n",
    "# for line in lines:\n",
    "#     print(line)"
   ]
  },
  {
   "cell_type": "code",
   "execution_count": 16,
   "metadata": {},
   "outputs": [
    {
     "data": {
      "text/plain": [
       "4"
      ]
     },
     "execution_count": 16,
     "metadata": {},
     "output_type": "execute_result"
    }
   ],
   "source": [
    "engine = create_engine(\"sqlite+pysqlite:///data/database.db\")\n",
    "conn = engine.connect()\n",
    "\n",
    "query = text(\"SELECT set_id, MAX(score_mape_test) AS m FROM Predictors\")\n",
    "query = text('SELECT id FROM Predictors ORDER BY id')\n",
    "\n",
    "lines = conn.execute(query).fetchall()[-1][0]\n",
    "lines"
   ]
  },
  {
   "cell_type": "code",
   "execution_count": 4,
   "metadata": {},
   "outputs": [
    {
     "name": "stdout",
     "output_type": "stream",
     "text": [
      "[]\n"
     ]
    }
   ],
   "source": [
    "from sqlalchemy import create_engine, Table, MetaData, text\n",
    "\n",
    "engine = create_engine(\"sqlite+pysqlite:///data/database.db\")\n",
    "metadata = MetaData()\n",
    "conn = engine.connect()\n",
    "table_predictors = Table('Predictors', metadata, autoload_with=engine)\n",
    "table_X_data = Table('X_data', metadata, autoload_with=engine)\n",
    "table_target = Table('target_prediction', metadata, autoload_with=engine)\n",
    "table_settings = Table('settings_data', metadata, autoload_with=engine)\n",
    "\n",
    "query_last_id = table_target.select().with_only_columns(table_target.c.id)\n",
    "id_counts = conn.execute(query_last_id).fetchall()\n",
    "print(id_counts)"
   ]
  },
  {
   "cell_type": "code",
   "execution_count": 5,
   "metadata": {},
   "outputs": [
    {
     "data": {
      "text/plain": [
       "[('2010-02-05',),\n",
       " ('2010-02-12',),\n",
       " ('2010-02-19',),\n",
       " ('2010-02-26',),\n",
       " ('2010-03-05',),\n",
       " ('2010-03-12',),\n",
       " ('2010-03-19',),\n",
       " ('2010-03-26',),\n",
       " ('2010-04-02',),\n",
       " ('2010-04-09',),\n",
       " ('2010-04-16',),\n",
       " ('2010-04-23',),\n",
       " ('2010-04-30',),\n",
       " ('2010-05-07',),\n",
       " ('2010-05-14',),\n",
       " ('2010-05-21',),\n",
       " ('2010-05-28',),\n",
       " ('2010-06-04',),\n",
       " ('2010-06-11',),\n",
       " ('2010-06-18',),\n",
       " ('2010-06-25',),\n",
       " ('2010-07-02',),\n",
       " ('2010-07-09',),\n",
       " ('2010-07-16',),\n",
       " ('2010-07-23',),\n",
       " ('2010-07-30',),\n",
       " ('2010-08-06',),\n",
       " ('2010-08-13',),\n",
       " ('2010-08-20',),\n",
       " ('2010-08-27',),\n",
       " ('2010-09-03',),\n",
       " ('2010-09-10',),\n",
       " ('2010-09-17',),\n",
       " ('2010-09-24',),\n",
       " ('2010-10-01',),\n",
       " ('2010-10-08',),\n",
       " ('2010-10-15',),\n",
       " ('2010-10-22',),\n",
       " ('2010-10-29',),\n",
       " ('2010-11-05',),\n",
       " ('2010-11-12',),\n",
       " ('2010-11-19',),\n",
       " ('2010-11-26',),\n",
       " ('2010-12-03',),\n",
       " ('2010-12-10',),\n",
       " ('2010-12-17',),\n",
       " ('2010-12-24',),\n",
       " ('2010-12-31',),\n",
       " ('2011-01-07',),\n",
       " ('2011-01-14',),\n",
       " ('2011-01-21',),\n",
       " ('2011-01-28',),\n",
       " ('2011-02-04',),\n",
       " ('2011-02-11',),\n",
       " ('2011-02-18',),\n",
       " ('2011-02-25',),\n",
       " ('2011-03-04',),\n",
       " ('2011-03-11',),\n",
       " ('2011-03-18',),\n",
       " ('2011-03-25',),\n",
       " ('2011-04-01',),\n",
       " ('2011-04-08',),\n",
       " ('2011-04-15',),\n",
       " ('2011-04-22',),\n",
       " ('2011-04-29',),\n",
       " ('2011-05-06',),\n",
       " ('2011-05-13',),\n",
       " ('2011-05-20',),\n",
       " ('2011-05-27',),\n",
       " ('2011-06-03',),\n",
       " ('2011-06-10',),\n",
       " ('2011-06-17',),\n",
       " ('2011-06-24',),\n",
       " ('2011-07-01',),\n",
       " ('2011-07-08',),\n",
       " ('2011-07-15',),\n",
       " ('2011-07-22',),\n",
       " ('2011-07-29',),\n",
       " ('2011-08-05',),\n",
       " ('2011-08-12',),\n",
       " ('2011-08-19',),\n",
       " ('2011-08-26',),\n",
       " ('2011-09-02',),\n",
       " ('2011-09-09',),\n",
       " ('2011-09-16',),\n",
       " ('2011-09-23',),\n",
       " ('2011-09-30',),\n",
       " ('2011-10-07',),\n",
       " ('2011-10-14',),\n",
       " ('2011-10-21',),\n",
       " ('2011-10-28',),\n",
       " ('2011-11-04',),\n",
       " ('2011-11-11',),\n",
       " ('2011-11-18',),\n",
       " ('2011-11-25',),\n",
       " ('2011-12-02',),\n",
       " ('2011-12-09',),\n",
       " ('2011-12-16',),\n",
       " ('2011-12-23',),\n",
       " ('2011-12-30',),\n",
       " ('2012-01-06',),\n",
       " ('2012-01-13',),\n",
       " ('2012-01-20',),\n",
       " ('2012-01-27',),\n",
       " ('2012-02-03',),\n",
       " ('2012-02-10',),\n",
       " ('2012-02-17',),\n",
       " ('2012-02-24',)]"
      ]
     },
     "execution_count": 5,
     "metadata": {},
     "output_type": "execute_result"
    }
   ],
   "source": [
    "query_train = text(\"SELECT timeline FROM target_prediction WHERE train_test_prediction = 'train' AND set_id = :set_id\")\n",
    "conn.execute(query_train, {'set_id':1}).fetchall()"
   ]
  },
  {
   "cell_type": "code",
   "execution_count": 9,
   "metadata": {},
   "outputs": [
    {
     "data": {
      "text/plain": [
       "[]"
      ]
     },
     "execution_count": 9,
     "metadata": {},
     "output_type": "execute_result"
    }
   ],
   "source": [
    "query_prediction = text(\"SELECT y FROM target_prediction WHERE pred_id = :pred_id AND train_test_prediction = 'prediction' AND predictor = :name_pred\")\n",
    "conn.execute(query_prediction, {'pred_id':0, 'name_pred':'Random_Forest'}).fetchall()"
   ]
  },
  {
   "cell_type": "code",
   "execution_count": 22,
   "metadata": {},
   "outputs": [
    {
     "data": {
      "text/plain": [
       "0.11844945481603131"
      ]
     },
     "execution_count": 22,
     "metadata": {},
     "output_type": "execute_result"
    }
   ],
   "source": [
    "query_old_mape = text(\"SELECT MAX(score_mape_test) AS second FROM Predictors WHERE score_mape_test < (SELECT MAX(score_mape_test) FROM Predictors)\")\n",
    "conn.execute(query_old_mape).fetchall()[0][0]"
   ]
  },
  {
   "cell_type": "code",
   "execution_count": 21,
   "metadata": {},
   "outputs": [
    {
     "data": {
      "text/plain": [
       "[(-0.8009439161109935,),\n",
       " (-0.5456583592768378,),\n",
       " (-0.5346374259731221,),\n",
       " (-0.5174577579278368,),\n",
       " (-0.32475257548816927,),\n",
       " (-0.28736913783464324,),\n",
       " (-0.2810945585248805,),\n",
       " (-0.2577908535605413,),\n",
       " (-0.25467560898647257,),\n",
       " (-0.25420579895248885,),\n",
       " (-0.15939412785021156,),\n",
       " (-0.01595241005523995,),\n",
       " (0.003370925553644266,),\n",
       " (0.02040235622513853,),\n",
       " (0.023593866613523584,),\n",
       " (0.026071497319427595,),\n",
       " (0.026726613409158828,),\n",
       " (0.08014793825181876,),\n",
       " (0.10340706378410558,),\n",
       " (0.11283464821501343,),\n",
       " (0.11844945481603131,),\n",
       " (0.12661235789041714,)]"
      ]
     },
     "execution_count": 21,
     "metadata": {},
     "output_type": "execute_result"
    }
   ],
   "source": [
    "query_old_mape = text(\"SELECT score_mape_test FROM Predictors ORDER BY score_mape_test\")\n",
    "conn.execute(query_old_mape).fetchall()"
   ]
  },
  {
   "cell_type": "code",
   "execution_count": 30,
   "metadata": {},
   "outputs": [
    {
     "data": {
      "text/plain": [
       "0.15321220417321213"
      ]
     },
     "execution_count": 30,
     "metadata": {},
     "output_type": "execute_result"
    }
   ],
   "source": [
    "str_score = 'score_mape_test'\n",
    "query_old = text(f\"SELECT MAX({str_score}) AS second FROM Predictors WHERE {str_score} < (SELECT MAX({str_score}) FROM Predictors)\")\n",
    "conn.execute(query_old).fetchall()[0][0]"
   ]
  }
 ],
 "metadata": {
  "kernelspec": {
   "display_name": "Python 3",
   "language": "python",
   "name": "python3"
  },
  "language_info": {
   "codemirror_mode": {
    "name": "ipython",
    "version": 3
   },
   "file_extension": ".py",
   "mimetype": "text/x-python",
   "name": "python",
   "nbconvert_exporter": "python",
   "pygments_lexer": "ipython3",
   "version": "3.10.12"
  }
 },
 "nbformat": 4,
 "nbformat_minor": 2
}
